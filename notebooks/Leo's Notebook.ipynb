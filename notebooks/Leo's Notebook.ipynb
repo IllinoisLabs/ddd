{
 "cells": [
  {
   "source": [
    "# RateMyProf Scraper https://github.com/remiliacn/RateMyProfessorPy/blob/master/RMPClass.py"
   ],
   "cell_type": "markdown",
   "metadata": {}
  },
  {
   "cell_type": "code",
   "execution_count": null,
   "metadata": {},
   "outputs": [],
   "source": [
    "import requests\n",
    "import json\n",
    "import math\n",
    "\n",
    "ILLINOIS_ID = 1112\n",
    "\n",
    "class RateMyProfScraper:\n",
    "        def __init__(self,schoolid):\n",
    "            self.UniversityId = schoolid\n",
    "            self.professorlist = self.createprofessorlist()\n",
    "            self.indexnumber = False\n",
    "\n",
    "        def createprofessorlist(self):#creates List object that include basic information on all Professors from the IDed University\n",
    "            tempprofessorlist = []\n",
    "            num_of_prof = self.GetNumOfProfessors(self.UniversityId)\n",
    "            num_of_pages = math.ceil(num_of_prof / 20)\n",
    "            i = 1\n",
    "            while (i <= num_of_pages):# the loop insert all professor into list\n",
    "                page = requests.get(\"http://www.ratemyprofessors.com/filter/professor/?&page=\" + str(\n",
    "                    i) + \"&filter=teacherlastname_sort_s+asc&query=*%3A*&queryoption=TEACHER&queryBy=schoolId&sid=\" + str(\n",
    "                    self.UniversityId))\n",
    "                temp_jsonpage = json.loads(page.content)\n",
    "                temp_list = temp_jsonpage['professors']\n",
    "                tempprofessorlist.extend(temp_list)\n",
    "                i += 1\n",
    "            return tempprofessorlist\n",
    "\n",
    "        def GetNumOfProfessors(self,id):  # function returns the number of professors in the university of the given ID.\n",
    "            page = requests.get(\n",
    "                \"http://www.ratemyprofessors.com/filter/professor/?&page=1&filter=teacherlastname_sort_s+asc&query=*%3A*&queryoption=TEACHER&queryBy=schoolId&sid=\" + str(\n",
    "                    id))  # get request for page\n",
    "            temp_jsonpage = json.loads(page.content)\n",
    "            num_of_prof = temp_jsonpage[\n",
    "                              'remaining'] + 20  # get the number of professors at William Paterson University\n",
    "            return num_of_prof\n",
    "\n",
    "        def SearchProfessor(self, ProfessorName):\n",
    "            self.indexnumber = self.GetProfessorIndex(ProfessorName)\n",
    "            self.PrintProfessorInfo()\n",
    "            return self.indexnumber\n",
    "\n",
    "        def GetProfessorIndex(self,ProfessorName):  # function searches for professor in list\n",
    "            for i in range(0, len(self.professorlist)):\n",
    "                if (ProfessorName == (self.professorlist[i]['tFname'] + \" \" + self.professorlist[i]['tLname'])):\n",
    "                    return i\n",
    "            return False  # Return False is not found\n",
    "\n",
    "        def PrintProfessorInfo(self):  # print search professor's name and RMP score\n",
    "            if self.indexnumber == False:\n",
    "                print(\"error\")\n",
    "            else:\n",
    "                print(self.professorlist[self.indexnumber])\n",
    "\n",
    "        def PrintProfessorDetail(self,key):  # print search professor's name and RMP score\n",
    "            if self.indexnumber == False:\n",
    "                print(\"error\")\n",
    "                return \"error\"\n",
    "            else:\n",
    "                print(self.professorlist[self.indexnumber][key])\n",
    "                return self.professorlist[self.indexnumber][key]\n",
    "\n",
    "\n",
    "UIUC = RateMyProfScraper(ILLINOIS_ID)\n",
    "UIUC.GetNumOfProfessors(ILLINOIS_ID)\n"
   ]
  }
 ],
 "metadata": {
  "kernelspec": {
   "name": "python390jvsc74a57bd036cf16204b8548560b1c020c4e8fb5b57f0e4c58016f52f2d4be01e192833930",
   "display_name": "Python 3.9.0 64-bit"
  },
  "metadata": {
   "interpreter": {
    "hash": "36cf16204b8548560b1c020c4e8fb5b57f0e4c58016f52f2d4be01e192833930"
   }
  }
 },
 "nbformat": 4,
 "nbformat_minor": 5
}